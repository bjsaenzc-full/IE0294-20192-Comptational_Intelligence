{
 "cells": [
  {
   "cell_type": "markdown",
   "metadata": {},
   "source": [
    "<img src=\"./LogoB.png\">"
   ]
  },
  {
   "cell_type": "markdown",
   "metadata": {},
   "source": [
    "# **Redes Neuronales Parte I - 'Perceptron Neuron'**\n",
    "\n",
    "En este _notebook_ se presetna la implementación y _prueba_ de una neurona perceptron como _clasificador binario_. Dicha implementación se realiza vía clases, tratando de _replicar_ lo que se hace en ***scikit-learn***(aunque a un nivel mucho más básico).\n",
    "\n",
    "En cuanto al conjunto de entrenamiento, se toma la base de datos(_Toy Dataset_) digits. Resta por implementar lo correspondiente a _Validación Cruzada_, y realizar un análisis en detalle de los resultados obtenidos, así como de comparación con variaciones ligeras del _algoritmo_ de entrenamiento, métricas de desempeño, matrices de _confusión_ y demás."
   ]
  },
  {
   "cell_type": "code",
   "execution_count": 1,
   "metadata": {},
   "outputs": [],
   "source": [
    "# ======================== #\n",
    "# == Módulos utilizados == #\n",
    "# ======================== #\n",
    "import numpy as np\n",
    "import matplotlib.pyplot as plt\n",
    "from sklearn.datasets import load_digits"
   ]
  },
  {
   "cell_type": "code",
   "execution_count": 2,
   "metadata": {},
   "outputs": [
    {
     "name": "stdin",
     "output_type": "stream",
     "text": [
      "Digite un número entre 1 y 9:  4\n"
     ]
    }
   ],
   "source": [
    "# ===================================== #\n",
    "# == Datos de entrenamiento y prueba == #\n",
    "# ===================================== #\n",
    "#\n",
    "# --> Carga la base de datos y extrae dos de los digitos para clasificación\n",
    "digitos = load_digits()\n",
    "x_raw = digitos.data\n",
    "y_raw = digitos.target\n",
    "Dig = int(input('Digite un número entre 1 y 9: '))\n",
    "x = []\n",
    "y = []\n",
    "for i in range(len(y_raw)):\n",
    "    if y_raw[i] == Dig or y_raw[i] == 0:\n",
    "        x.append(x_raw[i])\n",
    "        y.append(y_raw[i])"
   ]
  },
  {
   "cell_type": "code",
   "execution_count": 3,
   "metadata": {},
   "outputs": [
    {
     "data": {
      "image/png": "[encoded data removed]",
      "text/plain": [
       "<Figure size 432x288 with 2 Axes>"
      ]
     },
     "metadata": {},
     "output_type": "display_data"
    }
   ],
   "source": [
    "# ===================================================== #\n",
    "# == Visualización de algunos de los datos extraídos == #\n",
    "# ===================================================== #\n",
    "# --> Muestra los digitos extraídos\n",
    "D1 = x[0].reshape((8,8))\n",
    "D2 = x[3].reshape((8,8))\n",
    "fig, ax = plt.subplots(1,2)\n",
    "ax[0].imshow(D1, cmap = 'gray')\n",
    "ax[0].set_xticks([])\n",
    "ax[0].set_yticks([])\n",
    "ax[1].imshow(D2, cmap = 'gray')\n",
    "ax[1].set_xticks([])\n",
    "ax[1].set_yticks([])\n",
    "plt.show()"
   ]
  },
  {
   "cell_type": "code",
   "execution_count": 4,
   "metadata": {},
   "outputs": [
    {
     "name": "stdin",
     "output_type": "stream",
     "text": [
      "Porcentaje de los datos para entrenar:  80\n"
     ]
    },
    {
     "name": "stdout",
     "output_type": "stream",
     "text": [
      "Cantidad de datos para entrenamiento: 287\n",
      "Cantidad de datos para validacion: 72\n"
     ]
    }
   ],
   "source": [
    "# ====================================================== #\n",
    "# == Separa entre datos de entrenamiento y validación == #\n",
    "# ====================================================== #\n",
    "porcentaje =float(input('Porcentaje de los datos para entrenar: ')) / 100\n",
    "lim = int(np.floor(len(x) * porcentaje))\n",
    "# Entrenamiento\n",
    "x_train = x[:lim]\n",
    "y_train = y[:lim]\n",
    "# Validación\n",
    "x_test = x[lim:]\n",
    "y_test = y[lim:]\n",
    "# Cantidad de datos en cada conjunto\n",
    "print(\"Cantidad de datos para entrenamiento: %d\" % (len(x_train)))\n",
    "print(\"Cantidad de datos para validacion: %d\" % (len(x_test)))"
   ]
  },
  {
   "cell_type": "code",
   "execution_count": 5,
   "metadata": {},
   "outputs": [],
   "source": [
    "# ======================================= #\n",
    "# == 'Scaling' de los datos de entrada == #\n",
    "# ======================================= #\n",
    "# --> Normaliza los datos: Como es clasificador binario, y la funición utilizada es \"hard_limiter\"\n",
    "# la salida estará entre 0 y 1, por lo tanto, se \"escala\" la entrada de tal manera que \n",
    "# también quede en el mismo rango [0, 1]\n",
    "y_train_aux = (1 / Dig) * np.asarray(y_train)\n",
    "x_train_aux = np.zeros_like(x_train)\n",
    "#\n",
    "for i in range(len(y_train)):\n",
    "    x_train_aux[i] = x_train[i] / max(x_train[i])\n",
    "\n",
    "#for i in range(len(y_hat)):\n",
    "#    print(\"y_train[%d] = %d \\t y_train_aux[%d] = %d\" % (i, y_train[i], i, y_train_aux[i]))"
   ]
  },
  {
   "cell_type": "code",
   "execution_count": 6,
   "metadata": {},
   "outputs": [],
   "source": [
    "# ====================================================================== #\n",
    "# == Crea el modelo de ajuste lineal por mínimos cuadrados ordinarios == #\n",
    "# ====================================================================== #\n",
    "class perceptronNeuron():\n",
    "    # ---------------------------- #\n",
    "    # -- Contructor de la clase -- #\n",
    "    # ---------------------------- #\n",
    "    def __init__(self):\n",
    "        self._pesos = np.asarray([])\n",
    "        self._A = np.asarray([])\n",
    "        self._max_iter = 100\n",
    "        self._iter = 0\n",
    "        self._tol = 1e-4\n",
    "        self._error = 1.0\n",
    "        self._eta = 1.0\n",
    "        self._f = np.asarray([])\n",
    "    # --------------------------------------------------------- #\n",
    "    # -- Métodos uaxiliares para el entrenamiento del modelo -- #\n",
    "    # --------------------------------------------------------- #\n",
    "    def funcionActivacion(self, i):\n",
    "        # Función de activación 'Hard Limiter'\n",
    "        temp = np.matmul(self._A, self._pesos)\n",
    "        result = []\n",
    "        for i in range(len(temp)):\n",
    "            if temp[i] >= 0:\n",
    "                result.append(1)\n",
    "            else:\n",
    "                result.append(0)\n",
    "        self._f = np.asarray(result).reshape((len(result), 1))\n",
    "    # ------------------------------------ #\n",
    "    # -- Método para entrenar el modelo -- # \n",
    "    # ------------------------------------ #\n",
    "    def entrenamiento(self, x_train, y_train, echo = False):\n",
    "        [nx, mx] = np.shape(x_train)\n",
    "        self._A = np.zeros((nx, mx + 1))\n",
    "        self._pesos = np.zeros((mx + 1, 1))\n",
    "        self._A[:,0] = 1\n",
    "        self._A[:,1:] = x_train\n",
    "        for i in range(len(self._pesos)):\n",
    "            self._error = 1.0\n",
    "            self._iter = 0\n",
    "            while (self._error > self._tol):\n",
    "                self._iter += 1\n",
    "                self.funcionActivacion(i)\n",
    "                peso_nuevo = self._eta * np.matmul(self._A.T, (np.asarray(y_train).reshape((len(y_train), 1)) - self._f))\n",
    "                self._error = np.abs(self._pesos[i] - peso_nuevo[i])\n",
    "                self._pesos[i] += peso_nuevo[i]\n",
    "                if(self._iter >= self._max_iter):\n",
    "                    break\n",
    "    # ---------------------- #\n",
    "    # -- Prueba el modelo -- #\n",
    "    # ---------------------- #\n",
    "    def pruebaModelo(self, x_test):\n",
    "        [f, c] = np.shape(x_test)\n",
    "        A = np.zeros((f, c + 1))\n",
    "        A[:, 0] = 1.0\n",
    "        A[:,1:] = x_test\n",
    "        tmp = np.matmul(A, self._pesos)\n",
    "        result = np.zeros_like(tmp)\n",
    "        for i in range(len(tmp)):\n",
    "            if tmp[i] >= 0:\n",
    "                result[i] = 1\n",
    "        return result.reshape((len(result), 1))"
   ]
  },
  {
   "cell_type": "code",
   "execution_count": 7,
   "metadata": {},
   "outputs": [],
   "source": [
    "# ============================================== #\n",
    "# == Implementa el modelo de regresión lineal == #\n",
    "# ============================================== #\n",
    "#\n",
    "# --> Crea un objeto neurona (instanciamiento de la clase)\n",
    "perceptron = perceptronNeuron()\n",
    "# --> Entrena la neurona con los 'datos escalados', tanto en x como en y\n",
    "perceptron.entrenamiento(x_train_aux, y_train_aux)"
   ]
  },
  {
   "cell_type": "code",
   "execution_count": 8,
   "metadata": {},
   "outputs": [
    {
     "name": "stdout",
     "output_type": "stream",
     "text": [
      "Porcentaje de error: 30.56 (22 fallos en 72 muestras)\n",
      "\n",
      "y_test[0] = 4 \t y_hat[0] = 4 \t error[0] = -\n",
      "y_test[1] = 0 \t y_hat[1] = 0 \t error[1] = -\n",
      "y_test[2] = 0 \t y_hat[2] = 0 \t error[2] = -\n",
      "y_test[3] = 4 \t y_hat[3] = 4 \t error[3] = -\n",
      "y_test[4] = 0 \t y_hat[4] = 0 \t error[4] = -\n",
      "y_test[5] = 0 \t y_hat[5] = 0 \t error[5] = -\n",
      "y_test[6] = 0 \t y_hat[6] = 0 \t error[6] = -\n",
      "y_test[7] = 4 \t y_hat[7] = 4 \t error[7] = -\n",
      "y_test[8] = 4 \t y_hat[8] = 4 \t error[8] = -\n",
      "y_test[9] = 0 \t y_hat[9] = 0 \t error[9] = -\n",
      "y_test[10] = 0 \t y_hat[10] = 0 \t error[10] = -\n",
      "y_test[11] = 0 \t y_hat[11] = 0 \t error[11] = -\n",
      "y_test[12] = 4 \t y_hat[12] = 4 \t error[12] = -\n",
      "y_test[13] = 4 \t y_hat[13] = 4 \t error[13] = -\n",
      "y_test[14] = 4 \t y_hat[14] = 4 \t error[14] = -\n",
      "y_test[15] = 0 \t y_hat[15] = 0 \t error[15] = -\n",
      "y_test[16] = 4 \t y_hat[16] = 4 \t error[16] = -\n",
      "y_test[17] = 4 \t y_hat[17] = 4 \t error[17] = -\n",
      "y_test[18] = 4 \t y_hat[18] = 4 \t error[18] = -\n",
      "y_test[19] = 4 \t y_hat[19] = 4 \t error[19] = -\n",
      "y_test[20] = 0 \t y_hat[20] = 0 \t error[20] = -\n",
      "y_test[21] = 0 \t y_hat[21] = 0 \t error[21] = -\n",
      "y_test[22] = 4 \t y_hat[22] = 0 \t error[22] = S\n",
      "y_test[23] = 0 \t y_hat[23] = 0 \t error[23] = -\n",
      "y_test[24] = 4 \t y_hat[24] = 4 \t error[24] = -\n",
      "y_test[25] = 0 \t y_hat[25] = 0 \t error[25] = -\n",
      "y_test[26] = 4 \t y_hat[26] = 0 \t error[26] = S\n",
      "y_test[27] = 0 \t y_hat[27] = 0 \t error[27] = -\n",
      "y_test[28] = 0 \t y_hat[28] = 0 \t error[28] = -\n",
      "y_test[29] = 4 \t y_hat[29] = 0 \t error[29] = S\n",
      "y_test[30] = 0 \t y_hat[30] = 0 \t error[30] = -\n",
      "y_test[31] = 0 \t y_hat[31] = 0 \t error[31] = -\n",
      "y_test[32] = 0 \t y_hat[32] = 0 \t error[32] = -\n",
      "y_test[33] = 4 \t y_hat[33] = 0 \t error[33] = S\n",
      "y_test[34] = 4 \t y_hat[34] = 0 \t error[34] = S\n",
      "y_test[35] = 0 \t y_hat[35] = 0 \t error[35] = -\n",
      "y_test[36] = 0 \t y_hat[36] = 0 \t error[36] = -\n",
      "y_test[37] = 4 \t y_hat[37] = 0 \t error[37] = S\n",
      "y_test[38] = 4 \t y_hat[38] = 0 \t error[38] = S\n",
      "y_test[39] = 4 \t y_hat[39] = 0 \t error[39] = S\n",
      "y_test[40] = 0 \t y_hat[40] = 0 \t error[40] = -\n",
      "y_test[41] = 4 \t y_hat[41] = 4 \t error[41] = -\n",
      "y_test[42] = 4 \t y_hat[42] = 4 \t error[42] = -\n",
      "y_test[43] = 4 \t y_hat[43] = 0 \t error[43] = S\n",
      "y_test[44] = 4 \t y_hat[44] = 0 \t error[44] = S\n",
      "y_test[45] = 0 \t y_hat[45] = 0 \t error[45] = -\n",
      "y_test[46] = 0 \t y_hat[46] = 0 \t error[46] = -\n",
      "y_test[47] = 4 \t y_hat[47] = 0 \t error[47] = S\n",
      "y_test[48] = 0 \t y_hat[48] = 0 \t error[48] = -\n",
      "y_test[49] = 4 \t y_hat[49] = 0 \t error[49] = S\n",
      "y_test[50] = 0 \t y_hat[50] = 0 \t error[50] = -\n",
      "y_test[51] = 4 \t y_hat[51] = 0 \t error[51] = S\n",
      "y_test[52] = 0 \t y_hat[52] = 0 \t error[52] = -\n",
      "y_test[53] = 0 \t y_hat[53] = 0 \t error[53] = -\n",
      "y_test[54] = 4 \t y_hat[54] = 0 \t error[54] = S\n",
      "y_test[55] = 0 \t y_hat[55] = 0 \t error[55] = -\n",
      "y_test[56] = 0 \t y_hat[56] = 0 \t error[56] = -\n",
      "y_test[57] = 0 \t y_hat[57] = 0 \t error[57] = -\n",
      "y_test[58] = 4 \t y_hat[58] = 0 \t error[58] = S\n",
      "y_test[59] = 4 \t y_hat[59] = 0 \t error[59] = S\n",
      "y_test[60] = 0 \t y_hat[60] = 0 \t error[60] = -\n",
      "y_test[61] = 0 \t y_hat[61] = 0 \t error[61] = -\n",
      "y_test[62] = 0 \t y_hat[62] = 0 \t error[62] = -\n",
      "y_test[63] = 4 \t y_hat[63] = 0 \t error[63] = S\n",
      "y_test[64] = 4 \t y_hat[64] = 0 \t error[64] = S\n",
      "y_test[65] = 4 \t y_hat[65] = 0 \t error[65] = S\n",
      "y_test[66] = 0 \t y_hat[66] = 0 \t error[66] = -\n",
      "y_test[67] = 4 \t y_hat[67] = 0 \t error[67] = S\n",
      "y_test[68] = 4 \t y_hat[68] = 0 \t error[68] = S\n",
      "y_test[69] = 4 \t y_hat[69] = 0 \t error[69] = S\n",
      "y_test[70] = 4 \t y_hat[70] = 4 \t error[70] = -\n",
      "y_test[71] = 0 \t y_hat[71] = 0 \t error[71] = -\n"
     ]
    }
   ],
   "source": [
    "# --> Prueba el modelo\n",
    "y_hat = perceptron.pruebaModelo(x_test)\n",
    "# --> Calcula una especie de 'error de prueba'. Es decir, un vector que indica con el caracter 'S' en las posiciones en donde el algortimo falló, y\n",
    "# con un caracter '-' en donde el algoritmo acertó.\n",
    "error = []\n",
    "cont = 0\n",
    "for i in range(len(y_hat)):\n",
    "    if(np.abs(y_test[i] - 4 * y_hat[i]) != 0):\n",
    "        error.append(str('S'))\n",
    "        cont += 1\n",
    "    else:\n",
    "        error.append(str('-'))\n",
    "# --> Muestra los resultados de la Prueba del modelo, y del vector de 'error'\n",
    "print(\"Porcentaje de error: %1.2f (%d fallos en %d muestras)\\n\" % (100 * cont / len(y_hat), cont, len(y_hat)))\n",
    "for i in range(len(y_hat)):\n",
    "    print(\"y_test[%d] = %d \\t y_hat[%d] = %d \\t error[%d] = %s\" % (i, y_test[i], i, 4 * y_hat[i], i, error[i]))"
   ]
  }
 ],
 "metadata": {
  "kernelspec": {
   "display_name": "Python 3",
   "language": "python",
   "name": "python3"
  },
  "language_info": {
   "codemirror_mode": {
    "name": "ipython",
    "version": 3
   },
   "file_extension": ".py",
   "mimetype": "text/x-python",
   "name": "python",
   "nbconvert_exporter": "python",
   "pygments_lexer": "ipython3",
   "version": "3.6.8"
  }
 },
 "nbformat": 4,
 "nbformat_minor": 2
}
